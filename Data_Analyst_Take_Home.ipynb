{
  "nbformat": 4,
  "nbformat_minor": 0,
  "metadata": {
    "colab": {
      "provenance": []
    },
    "kernelspec": {
      "name": "python3",
      "display_name": "Python 3"
    },
    "language_info": {
      "name": "python"
    }
  },
  "cells": [
    {
      "cell_type": "markdown",
      "source": [
        "#First: explore the data"
      ],
      "metadata": {
        "id": "_oDyDtApEwFt"
      }
    },
    {
      "cell_type": "code",
      "execution_count": 1,
      "metadata": {
        "id": "G-4n2hHX24ji"
      },
      "outputs": [],
      "source": [
        "import pandas as pd"
      ]
    },
    {
      "cell_type": "code",
      "source": [
        "# Load ALL CSV data files\n",
        "product_data = pd.read_csv('PRODUCTS.csv')\n",
        "transaction_data = pd.read_csv('TRANSACTION.csv')\n",
        "user_data = pd.read_csv('USER.csv')"
      ],
      "metadata": {
        "id": "gEoJ0OdX4bEJ"
      },
      "execution_count": 2,
      "outputs": []
    },
    {
      "cell_type": "code",
      "source": [
        "# View the first rows\n",
        "print(product_data.head())\n",
        "print(transaction_data.head())\n",
        "print(user_data.head())"
      ],
      "metadata": {
        "colab": {
          "base_uri": "https://localhost:8080/"
        },
        "id": "n25Ufrvm4cQb",
        "outputId": "e9599186-41b5-4a79-edcf-61c83978f7b1"
      },
      "execution_count": 3,
      "outputs": [
        {
          "output_type": "stream",
          "name": "stdout",
          "text": [
            "          CATEGORY_1              CATEGORY_2                   CATEGORY_3  \\\n",
            "0  Health & Wellness           Sexual Health  Conductivity Gels & Lotions   \n",
            "1             Snacks           Puffed Snacks         Cheese Curls & Puffs   \n",
            "2  Health & Wellness               Hair Care        Hair Care Accessories   \n",
            "3  Health & Wellness               Oral Care                   Toothpaste   \n",
            "4  Health & Wellness  Medicines & Treatments               Essential Oils   \n",
            "\n",
            "  CATEGORY_4                                       MANUFACTURER  \\\n",
            "0        NaN                                                NaN   \n",
            "1        NaN                                                NaN   \n",
            "2        NaN                           PLACEHOLDER MANUFACTURER   \n",
            "3        NaN                                  COLGATE-PALMOLIVE   \n",
            "4        NaN  MAPLE HOLISTICS AND HONEYDEW PRODUCTS INTERCHA...   \n",
            "\n",
            "             BRAND       BARCODE  \n",
            "0              NaN  7.964944e+11  \n",
            "1              NaN  2.327801e+10  \n",
            "2          ELECSOP  4.618178e+11  \n",
            "3          COLGATE  3.500047e+10  \n",
            "4  MAPLE HOLISTICS  8.068109e+11  \n",
            "                             RECEIPT_ID PURCHASE_DATE  \\\n",
            "0  0000d256-4041-4a3e-adc4-5623fb6e0c99    2024-08-21   \n",
            "1  0001455d-7a92-4a7b-a1d2-c747af1c8fd3    2024-07-20   \n",
            "2  00017e0a-7851-42fb-bfab-0baa96e23586    2024-08-18   \n",
            "3  000239aa-3478-453d-801e-66a82e39c8af    2024-06-18   \n",
            "4  00026b4c-dfe8-49dd-b026-4c2f0fd5c6a1    2024-07-04   \n",
            "\n",
            "                   SCAN_DATE STORE_NAME                   USER_ID  \\\n",
            "0  2024-08-21 14:19:06.539 Z    WALMART  63b73a7f3d310dceeabd4758   \n",
            "1  2024-07-20 09:50:24.206 Z       ALDI  62c08877baa38d1a1f6c211a   \n",
            "2  2024-08-19 15:38:56.813 Z    WALMART  60842f207ac8b7729e472020   \n",
            "3  2024-06-19 11:03:37.468 Z  FOOD LION  63fcd7cea4f8442c3386b589   \n",
            "4  2024-07-05 15:56:43.549 Z   RANDALLS  6193231ae9b3d75037b0f928   \n",
            "\n",
            "        BARCODE FINAL_QUANTITY FINAL_SALE  \n",
            "0  1.530001e+10           1.00             \n",
            "1           NaN           zero       1.49  \n",
            "2  7.874223e+10           1.00             \n",
            "3  7.833997e+11           zero       3.49  \n",
            "4  4.790050e+10           1.00             \n",
            "                         ID               CREATED_DATE  \\\n",
            "0  5ef3b4f17053ab141787697d  2020-06-24 20:17:54.000 Z   \n",
            "1  5ff220d383fcfc12622b96bc  2021-01-03 19:53:55.000 Z   \n",
            "2  6477950aa55bb77a0e27ee10  2023-05-31 18:42:18.000 Z   \n",
            "3  658a306e99b40f103b63ccf8  2023-12-26 01:46:22.000 Z   \n",
            "4  653cf5d6a225ea102b7ecdc2  2023-10-28 11:51:50.000 Z   \n",
            "\n",
            "                  BIRTH_DATE STATE LANGUAGE  GENDER  \n",
            "0  2000-08-11 00:00:00.000 Z    CA   es-419  female  \n",
            "1  2001-09-24 04:00:00.000 Z    PA       en  female  \n",
            "2  1994-10-28 00:00:00.000 Z    FL   es-419  female  \n",
            "3                        NaN    NC       en     NaN  \n",
            "4  1972-03-19 00:00:00.000 Z    PA       en  female  \n"
          ]
        }
      ]
    },
    {
      "cell_type": "code",
      "source": [
        "# Checking for missing values with the CSV files\n",
        "\n",
        "print(\"Missing values within Products:\\n\", product_data.isnull().sum(),\"\\n\")\n",
        "print(\"Missing values within Transactions: \\n\", transaction_data.isnull().sum(),\"\\n\")\n",
        "print(\"Missing values within User: \\n\", user_data.isnull().sum())\n",
        "\n"
      ],
      "metadata": {
        "colab": {
          "base_uri": "https://localhost:8080/"
        },
        "id": "dlN9N--z5U7t",
        "outputId": "87704bad-de7e-49a0-be0f-9a7a623b3f63"
      },
      "execution_count": 4,
      "outputs": [
        {
          "output_type": "stream",
          "name": "stdout",
          "text": [
            "Missing values within Products:\n",
            " CATEGORY_1          79\n",
            "CATEGORY_2         976\n",
            "CATEGORY_3       40571\n",
            "CATEGORY_4      522201\n",
            "MANUFACTURER    152004\n",
            "BRAND           152002\n",
            "BARCODE           2670\n",
            "dtype: int64 \n",
            "\n",
            "Missing values within Transactions: \n",
            " RECEIPT_ID           0\n",
            "PURCHASE_DATE        0\n",
            "SCAN_DATE            0\n",
            "STORE_NAME           0\n",
            "USER_ID              0\n",
            "BARCODE           5762\n",
            "FINAL_QUANTITY       0\n",
            "FINAL_SALE           0\n",
            "dtype: int64 \n",
            "\n",
            "Missing values within User: \n",
            " ID                  0\n",
            "CREATED_DATE        0\n",
            "BIRTH_DATE       3675\n",
            "STATE            4812\n",
            "LANGUAGE        30508\n",
            "GENDER           5892\n",
            "dtype: int64\n"
          ]
        }
      ]
    },
    {
      "cell_type": "code",
      "source": [
        "# Checking for duplicate rows in each csv file\n",
        "\n",
        "print(\"Duplicate rows in Products: \\n\", product_data.duplicated().sum(),\"\\n\")\n",
        "print(\"Duplicate rows in Transactions: \\n\", transaction_data.duplicated().sum(),\"\\n\")\n",
        "print(\"Duplicate rows in Users: \\n \", user_data.duplicated().sum())"
      ],
      "metadata": {
        "colab": {
          "base_uri": "https://localhost:8080/"
        },
        "id": "P6GH0AEZ6h7k",
        "outputId": "e3f56928-3fc4-4539-9e15-5e37e6c730e5"
      },
      "execution_count": 5,
      "outputs": [
        {
          "output_type": "stream",
          "name": "stdout",
          "text": [
            "Duplicate rows in Products: \n",
            " 101 \n",
            "\n",
            "Duplicate rows in Transactions: \n",
            " 171 \n",
            "\n",
            "Duplicate rows in Users: \n",
            "  0\n"
          ]
        }
      ]
    },
    {
      "cell_type": "code",
      "source": [
        "# looking at summary statistics\n",
        "print(product_data.info(),\"\\n\")\n",
        "\n",
        "print(transaction_data.info(),\"\\n\")\n",
        "\n",
        "print(user_data.info())"
      ],
      "metadata": {
        "colab": {
          "base_uri": "https://localhost:8080/"
        },
        "id": "S4Jv41WK6lDU",
        "outputId": "fc4873d0-aff9-40cf-f82e-acb103f7b7fb"
      },
      "execution_count": 6,
      "outputs": [
        {
          "output_type": "stream",
          "name": "stdout",
          "text": [
            "<class 'pandas.core.frame.DataFrame'>\n",
            "RangeIndex: 567285 entries, 0 to 567284\n",
            "Data columns (total 7 columns):\n",
            " #   Column        Non-Null Count   Dtype  \n",
            "---  ------        --------------   -----  \n",
            " 0   CATEGORY_1    567206 non-null  object \n",
            " 1   CATEGORY_2    566309 non-null  object \n",
            " 2   CATEGORY_3    526714 non-null  object \n",
            " 3   CATEGORY_4    45084 non-null   object \n",
            " 4   MANUFACTURER  415281 non-null  object \n",
            " 5   BRAND         415283 non-null  object \n",
            " 6   BARCODE       564615 non-null  float64\n",
            "dtypes: float64(1), object(6)\n",
            "memory usage: 30.3+ MB\n",
            "None \n",
            "\n",
            "<class 'pandas.core.frame.DataFrame'>\n",
            "RangeIndex: 50000 entries, 0 to 49999\n",
            "Data columns (total 8 columns):\n",
            " #   Column          Non-Null Count  Dtype  \n",
            "---  ------          --------------  -----  \n",
            " 0   RECEIPT_ID      50000 non-null  object \n",
            " 1   PURCHASE_DATE   50000 non-null  object \n",
            " 2   SCAN_DATE       50000 non-null  object \n",
            " 3   STORE_NAME      50000 non-null  object \n",
            " 4   USER_ID         50000 non-null  object \n",
            " 5   BARCODE         44238 non-null  float64\n",
            " 6   FINAL_QUANTITY  50000 non-null  object \n",
            " 7   FINAL_SALE      50000 non-null  object \n",
            "dtypes: float64(1), object(7)\n",
            "memory usage: 3.1+ MB\n",
            "None \n",
            "\n",
            "<class 'pandas.core.frame.DataFrame'>\n",
            "RangeIndex: 100000 entries, 0 to 99999\n",
            "Data columns (total 6 columns):\n",
            " #   Column        Non-Null Count   Dtype \n",
            "---  ------        --------------   ----- \n",
            " 0   ID            100000 non-null  object\n",
            " 1   CREATED_DATE  100000 non-null  object\n",
            " 2   BIRTH_DATE    96325 non-null   object\n",
            " 3   STATE         95188 non-null   object\n",
            " 4   LANGUAGE      69492 non-null   object\n",
            " 5   GENDER        94108 non-null   object\n",
            "dtypes: object(6)\n",
            "memory usage: 4.6+ MB\n",
            "None\n"
          ]
        }
      ]
    },
    {
      "cell_type": "markdown",
      "source": [
        "#Second: provide SQL queries"
      ],
      "metadata": {
        "id": "s0dj6jirf0L2"
      }
    },
    {
      "cell_type": "markdown",
      "source": [
        "##What are the top 5 brands by receipts scanned among users 21 and over?\n"
      ],
      "metadata": {
        "id": "adLjc6V9fpks"
      }
    },
    {
      "cell_type": "code",
      "source": [
        "import sqlite3\n",
        "import pandas as pd\n",
        "\n",
        "# Connect to database\n",
        "conn = sqlite3.connect('data.db')\n",
        "\n",
        "# Loaded our data\n",
        "user_data = pd.read_csv('USER.csv')\n",
        "user_data.to_sql('users', conn, if_exists='replace', index=False)\n",
        "\n",
        "transaction_data = pd.read_csv('TRANSACTION.csv')\n",
        "transaction_data.to_sql('brands', conn, if_exists='replace', index=False)\n",
        "\n",
        "product_data = pd.read_csv('PRODUCTS.csv')\n",
        "product_data.to_sql('receipts', conn, if_exists='replace', index=False)\n",
        "\n",
        "# Upload Our Query\n",
        "top_brand_query = \"\"\"\n",
        "WITH Age_Users AS (\n",
        "    SELECT ID AS USER_ID\n",
        "    FROM users\n",
        "    WHERE strftime('%Y', 'now') - strftime('%Y', BIRTH_DATE) >= 21\n",
        "),\n",
        "Scanned_Receipts AS (\n",
        "    SELECT T.BARCODE, COUNT(T.RECEIPT_ID) AS Total_Scans\n",
        "    FROM brands T\n",
        "    JOIN Age_Users AEU ON T.USER_ID = AEU.USER_ID\n",
        "    GROUP BY T.BARCODE\n",
        ")\n",
        "SELECT R.BRAND, SR.Total_Scans\n",
        "FROM Scanned_Receipts SR\n",
        "JOIN receipts R ON SR.BARCODE = R.BARCODE\n",
        "ORDER BY SR.Total_Scans DESC\n",
        "LIMIT 5;\n",
        "\"\"\"\n",
        "\n",
        "# Run the query\n",
        "result = pd.read_sql(top_brand_query, conn)\n",
        "print(\"Top 5 Brands by Receipts Scanned Among Users 21 and Over:\")\n",
        "print(result)\n",
        "\n",
        "\n",
        "conn.close()\n"
      ],
      "metadata": {
        "colab": {
          "base_uri": "https://localhost:8080/"
        },
        "id": "jtL8IkmCU0dV",
        "outputId": "63008ce4-38aa-4755-ca75-0b912ca6ca91"
      },
      "execution_count": 7,
      "outputs": [
        {
          "output_type": "stream",
          "name": "stdout",
          "text": [
            "Top 5 Brands by Receipts Scanned Among Users 21 and Over:\n",
            "         BRAND  Total_Scans\n",
            "0  NERDS CANDY            4\n",
            "1      TRIDENT            4\n",
            "2     TOSTITOS            2\n",
            "3        SUAVE            2\n",
            "4         None            2\n"
          ]
        }
      ]
    },
    {
      "cell_type": "markdown",
      "source": [
        "##What are the top 5 brands by sales among users that have had their account for at least six months?"
      ],
      "metadata": {
        "id": "789t6SFEgbua"
      }
    },
    {
      "cell_type": "code",
      "source": [
        "import sqlite3\n",
        "import pandas as pd\n",
        "\n",
        "# Connect to database\n",
        "conn = sqlite3.connect('data.db')\n",
        "\n",
        "# Loaded our data\n",
        "user_data = pd.read_csv('USER.csv')\n",
        "user_data.to_sql('users', conn, if_exists='replace', index=False)\n",
        "\n",
        "transaction_data = pd.read_csv('TRANSACTION.csv')\n",
        "transaction_data.to_sql('brands', conn, if_exists='replace', index=False)\n",
        "\n",
        "product_data = pd.read_csv('PRODUCTS.csv')\n",
        "product_data.to_sql('receipts', conn, if_exists='replace', index=False)\n",
        "\n",
        "# Query\n",
        "account_query = \"\"\"\n",
        "WITH Users_Account AS (\n",
        "    SELECT ID AS USER_ID\n",
        "    FROM users\n",
        "    WHERE strftime('%Y', 'now') - strftime('%Y', CREATED_DATE) >= 1\n",
        "    AND strftime('%m', 'now') - strftime('%m', CREATED_DATE) >= 6\n",
        "),\n",
        "Sales AS (\n",
        "    SELECT T.BARCODE, SUM(T.FINAL_SALE) AS Total_Sales\n",
        "    FROM brands T\n",
        "    JOIN Users_Account AEU ON T.USER_ID = AEU.USER_ID\n",
        "    GROUP BY T.BARCODE\n",
        ")\n",
        "SELECT R.BRAND, SUM(S.Total_Sales) AS Total_Sales\n",
        "FROM Sales S\n",
        "JOIN receipts R ON S.BARCODE = R.BARCODE\n",
        "GROUP BY R.BRAND\n",
        "ORDER BY Total_Sales DESC\n",
        "LIMIT 5;\n",
        "\"\"\"\n",
        "\n",
        "\n",
        "result = pd.read_sql(account_query, conn)\n",
        "print(\"Top 5 Brands by Sales Among Users Who Have Had Their Account for At Least Six Months:\")\n",
        "print(result)\n",
        "\n",
        "\n",
        "conn.close()\n"
      ],
      "metadata": {
        "colab": {
          "base_uri": "https://localhost:8080/"
        },
        "id": "BQv925elYSCQ",
        "outputId": "e5eef61a-562d-4f71-89e9-efe7611de14b"
      },
      "execution_count": 8,
      "outputs": [
        {
          "output_type": "stream",
          "name": "stdout",
          "text": [
            "Top 5 Brands by Sales Among Users Who Have Had Their Account for At Least Six Months:\n",
            "         BRAND  Total_Sales\n",
            "0          CVS        72.00\n",
            "1  GREAT VALUE        12.08\n",
            "2        CREST         8.97\n",
            "3       ORAL-B         8.00\n",
            "4      NABISCO         7.76\n"
          ]
        }
      ]
    },
    {
      "cell_type": "markdown",
      "source": [
        "#Who are Fetch’s power users?"
      ],
      "metadata": {
        "id": "HUO07wL2hN4R"
      }
    },
    {
      "cell_type": "code",
      "source": [
        "import sqlite3\n",
        "import pandas as pd\n",
        "\n",
        "# Connect to SQLite database (or create it if it doesn't exist)\n",
        "conn = sqlite3.connect('data.db')\n",
        "\n",
        "# Load data from CSV files into tables\n",
        "user_data = pd.read_csv('USER.csv')\n",
        "user_data.to_sql('users', conn, if_exists='replace', index=False)\n",
        "\n",
        "transaction_data = pd.read_csv('TRANSACTION.csv')\n",
        "transaction_data.to_sql('brands', conn, if_exists='replace', index=False)\n",
        "\n",
        "product_data = pd.read_csv('PRODUCTS.csv')\n",
        "product_data.to_sql('receipts', conn, if_exists='replace', index=False)\n",
        "\n",
        "# Query to identify Fetch's power users (those who spent the most)\n",
        "power_users_query = \"\"\"\n",
        "WITH User_Spend AS (\n",
        "    SELECT T.USER_ID, SUM(T.FINAL_SALE) AS Total_Spend\n",
        "    FROM brands T\n",
        "    GROUP BY T.USER_ID\n",
        ")\n",
        "SELECT U.ID, US.Total_Spend\n",
        "FROM User_Spend US\n",
        "JOIN users U ON US.USER_ID = U.ID\n",
        "ORDER BY US.Total_Spend DESC\n",
        "LIMIT 10;  -- Top 10 users by total spend\n",
        "\"\"\"\n",
        "\n",
        "# Run the query and display results\n",
        "result = pd.read_sql(power_users_query, conn)\n",
        "print(\"Fetch's Power Users (Top 10 by Total Spend):\")\n",
        "print(result)\n",
        "\n",
        "# Close the database connection\n",
        "conn.close()\n"
      ],
      "metadata": {
        "colab": {
          "base_uri": "https://localhost:8080/"
        },
        "id": "pYTjOksvawk_",
        "outputId": "6cde4f91-c4e5-4ae8-c712-45bf2eea9e6d"
      },
      "execution_count": 9,
      "outputs": [
        {
          "output_type": "stream",
          "name": "stdout",
          "text": [
            "Fetch's Power Users (Top 10 by Total Spend):\n",
            "                         ID  Total_Spend\n",
            "0  643059f0838dd2651fb27f50        75.99\n",
            "1  62ffec490d9dbaff18c0a999        52.28\n",
            "2  5f4c9055e81e6f162e3f6fa8        37.96\n",
            "3  5d191765c8b1ba28e74e8463        34.96\n",
            "4  6351760a3a4a3534d9393ecd        27.74\n",
            "5  64dd9170516348066e7c4006        26.52\n",
            "6  62c09104baa38d1a1f6c260e        20.28\n",
            "7  61a58ac49c135b462ccddd1c        19.92\n",
            "8  6661ed1e7c0469953bfc76c4        18.60\n",
            "9  5b441360be53340f289b0795        18.32\n"
          ]
        }
      ]
    }
  ]
}